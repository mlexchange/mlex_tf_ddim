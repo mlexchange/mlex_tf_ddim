{
 "cells": [
  {
   "cell_type": "markdown",
   "metadata": {
    "colab_type": "text"
   },
   "source": [
    "# Denoising Diffusion Implicit (DDIM) Model Training Pipeline "
   ]
  },
  {
   "cell_type": "markdown",
   "metadata": {
    "colab_type": "text"
   },
   "source": [
    "## Setup"
   ]
  },
  {
   "cell_type": "code",
   "execution_count": 26,
   "metadata": {
    "colab_type": "code"
   },
   "outputs": [
    {
     "name": "stdout",
     "output_type": "stream",
     "text": [
      "GPU found\n"
     ]
    },
    {
     "name": "stderr",
     "output_type": "stream",
     "text": [
      "2024-01-06 21:50:22.336756: I tensorflow/core/common_runtime/pluggable_device/pluggable_device_factory.cc:306] Could not identify NUMA node of platform GPU ID 0, defaulting to 0. Your kernel may not have been built with NUMA support.\n",
      "2024-01-06 21:50:22.336915: I tensorflow/core/common_runtime/pluggable_device/pluggable_device_factory.cc:272] Created TensorFlow device (/device:GPU:0 with 0 MB memory) -> physical PluggableDevice (device: 0, name: METAL, pci bus id: <undefined>)\n"
     ]
    }
   ],
   "source": [
    "import os\n",
    "import matplotlib.pyplot as plt\n",
    "import tensorflow as tf\n",
    "from tensorflow import keras\n",
    "from keras import layers\n",
    "\n",
    "import numpy as np\n",
    "from ddim import DiffusionModel\n",
    "\n",
    "# use which NVIDIA GPU \n",
    "# os.environ['CUDA_VISIBLE_DEVICES'] = '1'\n",
    "\n",
    "if tf.test.gpu_device_name():\n",
    "    print('GPU found')\n",
    "else:\n",
    "    print(\"No GPU found\")"
   ]
  },
  {
   "cell_type": "markdown",
   "metadata": {
    "colab_type": "text"
   },
   "source": [
    "## Data pipeline"
   ]
  },
  {
   "cell_type": "code",
   "execution_count": 2,
   "metadata": {
    "colab_type": "code"
   },
   "outputs": [],
   "source": [
    "image_size = 64\n",
    "batch_size = 32"
   ]
  },
  {
   "cell_type": "code",
   "execution_count": 3,
   "metadata": {},
   "outputs": [
    {
     "name": "stdout",
     "output_type": "stream",
     "text": [
      "Found 430 files belonging to 1 classes.\n",
      "Using 344 files for training.\n",
      "Using 86 files for validation.\n"
     ]
    },
    {
     "name": "stderr",
     "output_type": "stream",
     "text": [
      "2024-01-06 21:00:10.326580: I tensorflow/core/common_runtime/pluggable_device/pluggable_device_factory.cc:306] Could not identify NUMA node of platform GPU ID 0, defaulting to 0. Your kernel may not have been built with NUMA support.\n",
      "2024-01-06 21:00:10.326598: I tensorflow/core/common_runtime/pluggable_device/pluggable_device_factory.cc:272] Created TensorFlow device (/job:localhost/replica:0/task:0/device:GPU:0 with 0 MB memory) -> physical PluggableDevice (device: 0, name: METAL, pci bus id: <undefined>)\n",
      "Clipping input data to the valid range for imshow with RGB data ([0..1] for floats or [0..255] for integers).\n"
     ]
    },
    {
     "data": {
      "text/plain": [
       "<matplotlib.image.AxesImage at 0x2e2641090>"
      ]
     },
     "execution_count": 3,
     "metadata": {},
     "output_type": "execute_result"
    },
    {
     "data": {
      "image/png": "[encoded data removed]",
      "text/plain": [
       "<Figure size 640x480 with 1 Axes>"
      ]
     },
     "metadata": {},
     "output_type": "display_data"
    }
   ],
   "source": [
    "data_dir = './data/dataset'\n",
    "train_dataset, val_dataset = tf.keras.utils.image_dataset_from_directory(data_dir,\n",
    "                                                                         labels=None, #if label='inferred', data_dir should be structured\n",
    "                                                                         color_mode='rgb', #'grayscale',\n",
    "                                                                         batch_size=batch_size,\n",
    "                                                                         image_size=(image_size, image_size),\n",
    "                                                                         shuffle=True,\n",
    "                                                                         seed=1,\n",
    "                                                                         validation_split=0.2,\n",
    "                                                                         subset='both',\n",
    "                                                                         interpolation='lanczos5')    \n",
    "    \n",
    "# convert RGB to 3-channel grayscale to fullfil the diffusion model requirements\n",
    "normalization_layer = layers.Rescaling(1./255)\n",
    "train_dataset = train_dataset.map(lambda x: (normalization_layer(x))).prefetch(buffer_size=32) \n",
    "val_dataset = val_dataset.map(lambda x: (normalization_layer(x))).prefetch(buffer_size=32)\n",
    "\n",
    "plt.imshow(next(iter(train_dataset))[1])"
   ]
  },
  {
   "cell_type": "markdown",
   "metadata": {},
   "source": [
    "## Model Parameters"
   ]
  },
  {
   "cell_type": "code",
   "execution_count": 4,
   "metadata": {},
   "outputs": [],
   "source": [
    "class ModelParams:\n",
    "    image_size = image_size\n",
    "    # KID = Kernel Inception Distance, used for validation step\n",
    "    kid_image_size = 75\n",
    "    kid_diffusion_steps = 5  \n",
    "    plot_diffusion_steps = 10 #diffusion steps, also the denoise steps for prediction\n",
    "\n",
    "    # scheduler parameters\n",
    "    min_signal_rate = 0.02\n",
    "    max_signal_rate = 0.95\n",
    "\n",
    "    # block parameters\n",
    "    widths = [32, 64, 96, 128]\n",
    "    block_depth = 2\n",
    "\n",
    "    # optimization\n",
    "    batch_size = batch_size\n",
    "    ema = 0.999"
   ]
  },
  {
   "cell_type": "markdown",
   "metadata": {
    "colab_type": "text"
   },
   "source": [
    "## Training"
   ]
  },
  {
   "cell_type": "code",
   "execution_count": 5,
   "metadata": {},
   "outputs": [],
   "source": [
    "num_epochs = 3  # train for at least 50 epochs for good results\n",
    "learning_rate = 1e-3\n",
    "weight_decay = 1e-4\n",
    "checkpoint_path = \"checkpoints/diffusion_model\""
   ]
  },
  {
   "cell_type": "code",
   "execution_count": 21,
   "metadata": {
    "colab_type": "code",
    "scrolled": false
   },
   "outputs": [
    {
     "name": "stderr",
     "output_type": "stream",
     "text": [
      "WARNING:absl:At this time, the v2.11+ optimizer `tf.keras.optimizers.AdamW` runs slowly on M1/M2 Macs, please use the legacy Keras optimizer instead, located at `tf.keras.optimizers.legacy.AdamW`.\n"
     ]
    },
    {
     "name": "stdout",
     "output_type": "stream",
     "text": [
      "Epoch 1/3\n",
      "10/10 [==============================] - ETA: 0s - n_loss: 0.7358 - i_loss: 3.1552scheduler_start_noise level 1.0\n",
      "10/10 [==============================] - 33s 2s/step - n_loss: 0.7358 - i_loss: 3.1552 - val_n_loss: 0.7976 - val_i_loss: 2.9298 - val_kid: 1.9115\n",
      "Epoch 2/3\n",
      "10/10 [==============================] - 11s 1s/step - n_loss: 0.4563 - i_loss: 1.6315 - val_n_loss: 0.7988 - val_i_loss: 3.4770 - val_kid: 1.9477\n",
      "Epoch 3/3\n",
      "10/10 [==============================] - 9s 865ms/step - n_loss: 0.3296 - i_loss: 1.0026 - val_n_loss: 0.7988 - val_i_loss: 3.4770 - val_kid: 1.9579\n"
     ]
    }
   ],
   "source": [
    "# create and compile the model\n",
    "model = DiffusionModel(ModelParams)\n",
    "\n",
    "model.compile(\n",
    "    optimizer=keras.optimizers.experimental.AdamW(\n",
    "        learning_rate=learning_rate, weight_decay=weight_decay\n",
    "    ),\n",
    "    #optimizer=keras.optimizers.experimental.SGD(learning_rate=0.1, clipnorm=1.0),\n",
    "    loss=keras.losses.mean_absolute_error,\n",
    ")\n",
    "\n",
    "# save the best model based on the validation KID metric\n",
    "checkpoint_callback = tf.keras.callbacks.ModelCheckpoint(\n",
    "    filepath=checkpoint_path,\n",
    "    save_weights_only=True,\n",
    "    monitor=\"val_kid\",\n",
    "    mode=\"min\",\n",
    "    save_best_only=True,\n",
    ")\n",
    "\n",
    "\n",
    "# calculate mean and variance of training dataset for normalization\n",
    "model.normalizer.adapt(train_dataset)\n",
    "\n",
    "# save log history\n",
    "txt_log = open('ddim_train_logs.txt', mode='wt', buffering=1)\n",
    "\n",
    "# run training and plot generated images periodically\n",
    "# source code: https://github.com/keras-team/keras/blob/master/keras/engine/training.py\n",
    "# printing training results, then validation \n",
    "training= model.fit(\n",
    "            train_dataset.take(len(train_dataset)-1),  # drop the last batch\n",
    "            epochs=num_epochs,   \n",
    "            validation_data=val_dataset.take(len(val_dataset)-1),\n",
    "            callbacks=[\n",
    "                #keras.callbacks.LambdaCallback(on_epoch_end=model.plot_rgb_images),\n",
    "                keras.callbacks.LambdaCallback(\n",
    "                    on_epoch_end = lambda epoch, logs: txt_log.write(f'epoch: {epoch}\\tn_loss: {logs[\"n_loss\"]}\\ti_loss: {logs[\"i_loss\"]}\\n'),\n",
    "                    on_train_end = lambda logs: txt_log.close()                \n",
    "                ),\n",
    "                checkpoint_callback,\n",
    "            ],\n",
    ")"
   ]
  },
  {
   "cell_type": "markdown",
   "metadata": {},
   "source": [
    "## Continue training from the saved checkpoint\n",
    "\n",
    "**Note:** the training process starts with a new optimizer each time. This is because the optimizer states are not saved in the checkpoint.  However, we can observe the loss continue going down as the new training starts."
   ]
  },
  {
   "cell_type": "code",
   "execution_count": 24,
   "metadata": {},
   "outputs": [
    {
     "name": "stdout",
     "output_type": "stream",
     "text": [
      "Epoch 1/3\n",
      "10/10 [==============================] - 9s 762ms/step - n_loss: 0.2839 - i_loss: 0.6944 - val_n_loss: 0.7988 - val_i_loss: 3.4769 - val_kid: 1.9703\n",
      "Epoch 2/3\n",
      "10/10 [==============================] - 8s 722ms/step - n_loss: 0.2726 - i_loss: 0.6208 - val_n_loss: 0.7988 - val_i_loss: 3.4768 - val_kid: 1.9739\n",
      "Epoch 3/3\n",
      "10/10 [==============================] - 8s 723ms/step - n_loss: 0.2641 - i_loss: 0.5720 - val_n_loss: 0.7987 - val_i_loss: 3.4768 - val_kid: 1.9776\n"
     ]
    }
   ],
   "source": [
    "txt_log = open('ddim_train_logs.txt', mode='rt', buffering=1)\n",
    "contents = \"\\n\".join(map(lambda s: s.rstrip('\\n'), txt_log.readlines()))\n",
    "txt_log = open('ddim_train_logs.txt', mode='wt', buffering=1)\n",
    "txt_log.write(contents+'\\n')\n",
    "\n",
    "training2= model.fit(\n",
    "            train_dataset.take(len(train_dataset)-1),  # drop the last batch\n",
    "            epochs=num_epochs,   \n",
    "            validation_data=val_dataset.take(len(val_dataset)-1),\n",
    "                        callbacks=[\n",
    "                #keras.callbacks.LambdaCallback(on_epoch_end=model.plot_rgb_images),\n",
    "                keras.callbacks.LambdaCallback(\n",
    "                    on_epoch_end = lambda epoch, logs: txt_log.write(f'epoch: {epoch}\\tn_loss: {logs[\"n_loss\"]}\\ti_loss: {logs[\"i_loss\"]}\\n'),\n",
    "                    on_train_end = lambda logs: txt_log.close()                \n",
    "                ),\n",
    "                checkpoint_callback,\n",
    "            ],\n",
    ")"
   ]
  },
  {
   "cell_type": "code",
   "execution_count": null,
   "metadata": {},
   "outputs": [],
   "source": []
  }
 ],
 "metadata": {
  "colab": {
   "collapsed_sections": [],
   "name": "ddim",
   "private_outputs": false,
   "provenance": [],
   "toc_visible": true
  },
  "kernelspec": {
   "display_name": "Python 3 (ipykernel)",
   "language": "python",
   "name": "python3"
  },
  "language_info": {
   "codemirror_mode": {
    "name": "ipython",
    "version": 3
   },
   "file_extension": ".py",
   "mimetype": "text/x-python",
   "name": "python",
   "nbconvert_exporter": "python",
   "pygments_lexer": "ipython3",
   "version": "3.10.13"
  }
 },
 "nbformat": 4,
 "nbformat_minor": 1
}
