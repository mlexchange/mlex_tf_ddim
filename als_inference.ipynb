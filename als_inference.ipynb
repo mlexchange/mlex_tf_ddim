{
 "cells": [
  {
   "cell_type": "markdown",
   "id": "4753fd2f",
   "metadata": {},
   "source": [
    "This is the version that can load weights previously trained with 40k X-ring scattering images (128 x 128) at ALS by on a Linux machine. Loading the weights on Mac may show abnormal results."
   ]
  },
  {
   "cell_type": "code",
   "execution_count": null,
   "id": "f4c68968-0fbe-47d9-aa2a-65ae9b6126c1",
   "metadata": {},
   "outputs": [],
   "source": [
    "from ddim import DiffusionModel\n",
    "\n",
    "import matplotlib.pyplot as plt\n",
    "import tensorflow as tf\n",
    "#import tensorflow_datasets as tfds\n",
    "\n",
    "from tensorflow import keras\n",
    "from keras import layers\n",
    "\n",
    "import numpy as np"
   ]
  },
  {
   "cell_type": "code",
   "execution_count": null,
   "id": "762907fa-38da-4409-b5d5-031227932320",
   "metadata": {},
   "outputs": [],
   "source": [
    "# need load new dataset because the model need the mean and var information\n",
    "batch_size = 1\n",
    "data_dir = './data/dataset'\n",
    "train_dataset = tf.keras.utils.image_dataset_from_directory(data_dir,\n",
    "                                                        labels=None, #if label='inferred', data_dir should be structured\n",
    "                                                        color_mode='rgb', #'grayscale',\n",
    "                                                        batch_size=batch_size,\n",
    "                                                        image_size=(128, 128),\n",
    "                                                        shuffle=True,\n",
    "                                                        seed=1,\n",
    "                                                    #  validation_split=0.2,\n",
    "                                                    #  subset='both',\n",
    "                                                        interpolation='lanczos5')    \n",
    "    \n",
    "normalization_layer = layers.Rescaling(1./255)\n",
    "train_dataset = train_dataset.map(lambda x: (normalization_layer(x))).prefetch(buffer_size=32) "
   ]
  },
  {
   "cell_type": "code",
   "execution_count": null,
   "id": "f4040d12-23d3-48b0-8bfa-d1f829fc4cc1",
   "metadata": {},
   "outputs": [],
   "source": [
    "model = DiffusionModel(128, [32, 64, 96, 128], 2)\n",
    "\n",
    "# to-do: generate new images with full resolutions (this would probably improve with more data for the training).  \n",
    "# calculate mean and variance of training dataset for normalization\n",
    "model.normalizer.adapt(train_dataset)\n",
    "\n",
    "# checkpoint training for 2000 epochs \n",
    "checkpoint_path = \"checkpoints4/diffusion_model\"\n",
    "\n",
    "# load the best model (the best model is saved based on the kid_val in validation) and generate images\n",
    "model.load_weights(checkpoint_path)"
   ]
  },
  {
   "cell_type": "code",
   "execution_count": null,
   "id": "b3f1fd28",
   "metadata": {},
   "outputs": [],
   "source": [
    "# This will genenerate new X-ray scattering images \n",
    "model.plot_gray_images()"
   ]
  },
  {
   "cell_type": "markdown",
   "id": "d4a0b2ef",
   "metadata": {},
   "source": [
    "### Add noise to a given image and denoise"
   ]
  },
  {
   "cell_type": "code",
   "execution_count": null,
   "id": "5d492333",
   "metadata": {},
   "outputs": [],
   "source": [
    "# plot the input image\n",
    "input_image = next(iter(train_dataset))[0]\n",
    "plt.imshow(input_image)"
   ]
  },
  {
   "cell_type": "code",
   "execution_count": null,
   "id": "cf124ba9-444b-479a-b487-c32ed409b515",
   "metadata": {},
   "outputs": [],
   "source": [
    "model.generate_images(num_images=1, n=0, input_images=input_image, noise_level=1.0, outname='output_image.png')"
   ]
  }
 ],
 "metadata": {
  "kernelspec": {
   "display_name": "Python 3 (ipykernel)",
   "language": "python",
   "name": "python3"
  },
  "language_info": {
   "codemirror_mode": {
    "name": "ipython",
    "version": 3
   },
   "file_extension": ".py",
   "mimetype": "text/x-python",
   "name": "python",
   "nbconvert_exporter": "python",
   "pygments_lexer": "ipython3",
   "version": "3.10.13"
  }
 },
 "nbformat": 4,
 "nbformat_minor": 5
}
